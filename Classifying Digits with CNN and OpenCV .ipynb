{
 "cells": [
  {
   "cell_type": "code",
   "execution_count": 83,
   "metadata": {},
   "outputs": [],
   "source": [
    "import numpy as np\n",
    "import cv2\n",
    "import os\n",
    "from sklearn.model_selection import train_test_split\n",
    "import matplotlib.pyplot as plt\n",
    "from keras.preprocessing.image import ImageDataGenerator\n",
    "from keras.utils.np_utils import to_categorical\n",
    "from keras.models import Sequential\n",
    "from keras.layers import Dense\n",
    "from keras.optimizers import Adam\n",
    "from keras.layers import Dropout, Flatten\n",
    "from keras.layers.convolutional import Conv2D, MaxPooling2D\n",
    "import pickle"
   ]
  },
  {
   "cell_type": "code",
   "execution_count": 84,
   "metadata": {},
   "outputs": [],
   "source": [
    "path = 'C:/Users/Sakshee/Documents/PyCharm Data/Numbers'\n",
    "imageDimensions = (32, 32, 3)         "
   ]
  },
  {
   "cell_type": "code",
   "execution_count": 85,
   "metadata": {},
   "outputs": [
    {
     "name": "stdout",
     "output_type": "stream",
     "text": [
      "Total Classes Detected: 10\n"
     ]
    }
   ],
   "source": [
    "images = []   # contains all images\n",
    "classNo = []  # contains corresponding class Id of images\n",
    "\n",
    "myList = os.listdir(path)                               # list containing the names of the folders\n",
    "print(\"Total Classes Detected:\", len(myList))           # =10 since we have folders from number 0 to 9\n",
    "noOfClasses = len(myList)"
   ]
  },
  {
   "cell_type": "code",
   "execution_count": 86,
   "metadata": {},
   "outputs": [
    {
     "name": "stdout",
     "output_type": "stream",
     "text": [
      "0 1 2 3 4 5 6 7 8 9  \n",
      "Total Images in Images List =  10160\n",
      "Total IDS in classNo List=  10160\n"
     ]
    }
   ],
   "source": [
    "for x in range(0, noOfClasses):                         # x represents the number for each class\n",
    "    myPicList = os.listdir(path + \"/\" + str(x))         # my picList takes us into each folder and so we can read the images next\n",
    "\n",
    "    for y in myPicList:                                 # y represents each picture in a particular folder\n",
    "        curImg = cv2.imread(path + \"/\" + str(x) + \"/\" + y)\n",
    "        curImg = cv2.resize(curImg, (imageDimensions[0],imageDimensions[1]))\n",
    "        images.append(curImg)\n",
    "        classNo.append(x)\n",
    "    print(x, end = \" \")                                 # so that folder Ids get printed in the same horizontal line\n",
    "    \n",
    "print(\" \")\n",
    "print(\"Total Images in Images List = \",len(images))\n",
    "print(\"Total IDS in classNo List= \",len(classNo))"
   ]
  },
  {
   "cell_type": "code",
   "execution_count": 87,
   "metadata": {},
   "outputs": [
    {
     "name": "stdout",
     "output_type": "stream",
     "text": [
      "(10160, 32, 32, 3)\n",
      "(10160,)\n"
     ]
    }
   ],
   "source": [
    "images = np.array(images)\n",
    "classNo = np.array(classNo)\n",
    "print(images.shape)\n",
    "print(classNo.shape)"
   ]
  },
  {
   "cell_type": "code",
   "execution_count": 88,
   "metadata": {},
   "outputs": [
    {
     "name": "stdout",
     "output_type": "stream",
     "text": [
      "(6502, 32, 32, 3)\n",
      "(2032, 32, 32, 3)\n",
      "(1626, 32, 32, 3)\n"
     ]
    }
   ],
   "source": [
    "testRatio = 0.2             \n",
    "valRatio = 0.2\n",
    "\n",
    "# Splitting the data\n",
    "X_train, X_test, y_train, y_test = train_test_split(images, classNo, test_size=testRatio)\n",
    "\n",
    "# Splitting validation data from the previously split train data\n",
    "X_train, X_validation, y_train, y_validation = train_test_split(X_train, y_train, test_size=valRatio)\n",
    "print(X_train.shape)\n",
    "print(X_test.shape)\n",
    "print(X_validation.shape)"
   ]
  },
  {
   "cell_type": "code",
   "execution_count": 89,
   "metadata": {
    "scrolled": true
   },
   "outputs": [
    {
     "name": "stdout",
     "output_type": "stream",
     "text": [
      "(array([   7,   10,   13,   46,   47,   52,   60,   64,   84,   85,   91,\n",
      "         93,   99,  103,  111,  116,  140,  143,  169,  170,  175,  196,\n",
      "        204,  206,  221,  229,  251,  260,  273,  295,  306,  307,  315,\n",
      "        317,  334,  344,  347,  361,  401,  404,  424,  439,  452,  456,\n",
      "        474,  478,  482,  496,  498,  513,  514,  521,  531,  533,  549,\n",
      "        551,  564,  577,  586,  597,  602,  614,  620,  621,  632,  635,\n",
      "        641,  656,  658,  661,  677,  690,  692,  719,  733,  748,  754,\n",
      "        762,  768,  783,  810,  814,  824,  845,  848,  865,  867,  872,\n",
      "        890,  894,  899,  921,  924,  929,  938,  941,  953,  987,  989,\n",
      "        993, 1015, 1031, 1035, 1038, 1043, 1068, 1103, 1110, 1124, 1126,\n",
      "       1127, 1135, 1138, 1150, 1165, 1196, 1199, 1205, 1212, 1219, 1220,\n",
      "       1243, 1244, 1247, 1260, 1267, 1278, 1290, 1299, 1311, 1340, 1358,\n",
      "       1367, 1380, 1398, 1399, 1402, 1411, 1430, 1448, 1455, 1456, 1476,\n",
      "       1477, 1479, 1498, 1506, 1507, 1509, 1524, 1539, 1585, 1602, 1604,\n",
      "       1620, 1623, 1649, 1655, 1656, 1666, 1676, 1685, 1688, 1697, 1700,\n",
      "       1711, 1715, 1717, 1730, 1756, 1767, 1776, 1781, 1785, 1790, 1792,\n",
      "       1798, 1808, 1824, 1872, 1876, 1885, 1886, 1911, 1936, 1938, 1980,\n",
      "       2005, 2018, 2029, 2030, 2033, 2034, 2053, 2058, 2064, 2071, 2077,\n",
      "       2082, 2085, 2099, 2104, 2110, 2146, 2156, 2167, 2169, 2196, 2204,\n",
      "       2220, 2224, 2237, 2245, 2246, 2255, 2259, 2265, 2273, 2274, 2288,\n",
      "       2294, 2326, 2336, 2339, 2342, 2349, 2376, 2383, 2385, 2396, 2399,\n",
      "       2403, 2419, 2454, 2465, 2489, 2514, 2519, 2528, 2549, 2550, 2558,\n",
      "       2564, 2579, 2584, 2593, 2601, 2605, 2608, 2609, 2612, 2635, 2638,\n",
      "       2647, 2648, 2672, 2680, 2705, 2713, 2720, 2722, 2766, 2777, 2796,\n",
      "       2807, 2812, 2814, 2816, 2838, 2854, 2858, 2862, 2870, 2889, 2892,\n",
      "       2913, 2918, 2922, 2923, 2957, 2959, 2992, 3005, 3017, 3028, 3032,\n",
      "       3037, 3040, 3046, 3069, 3071, 3074, 3080, 3112, 3129, 3138, 3164,\n",
      "       3166, 3167, 3171, 3177, 3205, 3221, 3225, 3226, 3230, 3231, 3234,\n",
      "       3257, 3259, 3264, 3270, 3310, 3317, 3322, 3323, 3346, 3372, 3373,\n",
      "       3374, 3377, 3386, 3414, 3445, 3457, 3460, 3472, 3473, 3475, 3477,\n",
      "       3480, 3500, 3504, 3507, 3518, 3532, 3535, 3558, 3559, 3579, 3580,\n",
      "       3582, 3589, 3602, 3610, 3626, 3632, 3643, 3644, 3688, 3698, 3723,\n",
      "       3725, 3739, 3760, 3761, 3762, 3764, 3767, 3768, 3772, 3793, 3800,\n",
      "       3815, 3827, 3853, 3857, 3863, 3869, 3880, 3888, 3894, 3902, 3903,\n",
      "       3909, 3919, 3921, 3924, 3929, 3932, 3968, 3983, 3984, 3992, 4009,\n",
      "       4011, 4013, 4027, 4030, 4032, 4046, 4057, 4060, 4063, 4068, 4069,\n",
      "       4088, 4130, 4141, 4164, 4190, 4191, 4210, 4214, 4220, 4224, 4226,\n",
      "       4229, 4243, 4247, 4250, 4262, 4263, 4266, 4299, 4301, 4307, 4318,\n",
      "       4320, 4334, 4354, 4362, 4363, 4414, 4416, 4421, 4436, 4451, 4461,\n",
      "       4470, 4487, 4521, 4529, 4531, 4538, 4546, 4550, 4560, 4568, 4605,\n",
      "       4625, 4641, 4647, 4686, 4690, 4698, 4701, 4704, 4706, 4712, 4737,\n",
      "       4752, 4753, 4774, 4791, 4799, 4813, 4818, 4845, 4848, 4851, 4852,\n",
      "       4854, 4885, 4895, 4897, 4941, 4951, 4953, 4966, 4967, 5000, 5004,\n",
      "       5017, 5019, 5022, 5060, 5069, 5074, 5085, 5094, 5099, 5109, 5122,\n",
      "       5140, 5145, 5148, 5153, 5156, 5182, 5195, 5197, 5204, 5208, 5222,\n",
      "       5230, 5235, 5252, 5253, 5254, 5258, 5271, 5272, 5282, 5286, 5292,\n",
      "       5296, 5301, 5318, 5320, 5338, 5342, 5348, 5352, 5404, 5406, 5413,\n",
      "       5415, 5418, 5421, 5424, 5426, 5456, 5457, 5459, 5466, 5480, 5494,\n",
      "       5497, 5498, 5510, 5512, 5516, 5519, 5521, 5522, 5532, 5560, 5574,\n",
      "       5585, 5591, 5593, 5594, 5600, 5612, 5614, 5644, 5654, 5676, 5681,\n",
      "       5693, 5716, 5736, 5762, 5771, 5772, 5783, 5784, 5786, 5790, 5803,\n",
      "       5815, 5829, 5864, 5873, 5881, 5886, 5893, 5909, 5931, 5948, 5957,\n",
      "       5959, 5960, 5975, 5976, 6016, 6031, 6032, 6034, 6041, 6054, 6057,\n",
      "       6071, 6075, 6080, 6088, 6090, 6095, 6096, 6097, 6099, 6108, 6119,\n",
      "       6130, 6136, 6148, 6151, 6166, 6183, 6187, 6188, 6191, 6200, 6203,\n",
      "       6206, 6224, 6237, 6271, 6284, 6286, 6292, 6306, 6312, 6318, 6320,\n",
      "       6326, 6328, 6330, 6347, 6365, 6377, 6394, 6395, 6403, 6404, 6423,\n",
      "       6459, 6464, 6465, 6472, 6490, 6491], dtype=int64),)\n",
      "633\n"
     ]
    }
   ],
   "source": [
    "print(np.where(y_train == 0))\n",
    "print(len(np.where(y_train == 0)[0]))"
   ]
  },
  {
   "cell_type": "code",
   "execution_count": 90,
   "metadata": {},
   "outputs": [
    {
     "name": "stdout",
     "output_type": "stream",
     "text": [
      "[633, 647, 656, 668, 638, 656, 670, 641, 639, 654]\n"
     ]
    },
    {
     "data": {
      "image/png": "[encoded data removed]",
      "text/plain": [
       "<Figure size 720x360 with 1 Axes>"
      ]
     },
     "metadata": {
      "needs_background": "light"
     },
     "output_type": "display_data"
    }
   ],
   "source": [
    "# Visualisation of data\n",
    "numOfSamples = []\n",
    "\n",
    "for x in range(0, noOfClasses):\n",
    "    # print(len(np.where(y_train==x)[0]))\n",
    "    numOfSamples.append(len(np.where(y_train == x)[0]))\n",
    "print(numOfSamples)\n",
    "\n",
    "plt.figure(figsize=(10, 5))\n",
    "plt.bar(range(0, noOfClasses), numOfSamples)\n",
    "plt.title(\"No of Images for each Class\")\n",
    "plt.xlabel(\"Class ID\")\n",
    "plt.ylabel(\"Number of Images\")\n",
    "plt.show()"
   ]
  },
  {
   "cell_type": "code",
   "execution_count": 91,
   "metadata": {},
   "outputs": [],
   "source": [
    "def preProcessing(img):\n",
    "    img = cv2.cvtColor(img, cv2.COLOR_BGR2GRAY)\n",
    "    img = cv2.equalizeHist(img)                        # makes the lighting of image distribute evenly\n",
    "    img = img / 255\n",
    "    return img"
   ]
  },
  {
   "cell_type": "code",
   "execution_count": 92,
   "metadata": {},
   "outputs": [],
   "source": [
    "# pre-training visualisation of dataset\n",
    "img_test = preProcessing(X_train[10])\n",
    "img_test = cv2.resize(img_test, (300,300))\n",
    "cv2.imshow(\"image\", img_test)\n",
    "cv2.waitKey(0)\n",
    "cv2.destroyAllWindows()"
   ]
  },
  {
   "cell_type": "code",
   "execution_count": 93,
   "metadata": {},
   "outputs": [],
   "source": [
    "# map function helps to run a function over an array or a list\n",
    "# map(preProcessing, X_train) will send each element of X_train to preProcessing and return a list which we need to store as\n",
    "# a numpy array X_train\n",
    "\n",
    "X_train = np.array(list(map(preProcessing, X_train)))\n",
    "X_test = np.array(list(map(preProcessing, X_test)))\n",
    "X_validation = np.array(list(map(preProcessing, X_validation)))"
   ]
  },
  {
   "cell_type": "code",
   "execution_count": 94,
   "metadata": {},
   "outputs": [],
   "source": [
    "X_train = X_train.reshape(X_train.shape[0], X_train.shape[1], X_train.shape[2], 1)\n",
    "X_test = X_test.reshape(X_test.shape[0], X_test.shape[1], X_test.shape[2], 1)\n",
    "X_validation = X_validation.reshape(X_validation.shape[0], X_validation.shape[1], X_validation.shape[2], 1)"
   ]
  },
  {
   "cell_type": "code",
   "execution_count": 95,
   "metadata": {},
   "outputs": [],
   "source": [
    "# To create/ augment images\n",
    "dataGen = ImageDataGenerator(width_shift_range=0.1,\n",
    "                             height_shift_range=0.1,\n",
    "                             zoom_range=0.2,\n",
    "                             shear_range=0.1,\n",
    "                             rotation_range=10)\n",
    "dataGen.fit(X_train)"
   ]
  },
  {
   "cell_type": "code",
   "execution_count": 96,
   "metadata": {},
   "outputs": [],
   "source": [
    "# one-hot encoding\n",
    "y_train = to_categorical(y_train, noOfClasses)\n",
    "y_test = to_categorical(y_test, noOfClasses)\n",
    "y_validation = to_categorical(y_validation, noOfClasses)"
   ]
  },
  {
   "cell_type": "code",
   "execution_count": 97,
   "metadata": {},
   "outputs": [
    {
     "name": "stdout",
     "output_type": "stream",
     "text": [
      "[[0. 0. 0. ... 0. 1. 0.]\n",
      " [0. 0. 0. ... 0. 0. 0.]\n",
      " [0. 0. 0. ... 1. 0. 0.]\n",
      " ...\n",
      " [0. 0. 0. ... 1. 0. 0.]\n",
      " [0. 1. 0. ... 0. 0. 0.]\n",
      " [0. 0. 0. ... 0. 0. 0.]]\n",
      "(6502, 10)\n"
     ]
    }
   ],
   "source": [
    "print(y_train)\n",
    "print(y_train.shape)"
   ]
  },
  {
   "cell_type": "code",
   "execution_count": 98,
   "metadata": {},
   "outputs": [
    {
     "name": "stdout",
     "output_type": "stream",
     "text": [
      "Model: \"sequential_4\"\n",
      "_________________________________________________________________\n",
      "Layer (type)                 Output Shape              Param #   \n",
      "=================================================================\n",
      "conv2d_13 (Conv2D)           (None, 28, 28, 60)        1560      \n",
      "_________________________________________________________________\n",
      "conv2d_14 (Conv2D)           (None, 24, 24, 60)        90060     \n",
      "_________________________________________________________________\n",
      "max_pooling2d_7 (MaxPooling2 (None, 12, 12, 60)        0         \n",
      "_________________________________________________________________\n",
      "conv2d_15 (Conv2D)           (None, 10, 10, 30)        16230     \n",
      "_________________________________________________________________\n",
      "conv2d_16 (Conv2D)           (None, 8, 8, 30)          8130      \n",
      "_________________________________________________________________\n",
      "max_pooling2d_8 (MaxPooling2 (None, 4, 4, 30)          0         \n",
      "_________________________________________________________________\n",
      "dropout_7 (Dropout)          (None, 4, 4, 30)          0         \n",
      "_________________________________________________________________\n",
      "flatten_4 (Flatten)          (None, 480)               0         \n",
      "_________________________________________________________________\n",
      "dense_7 (Dense)              (None, 500)               240500    \n",
      "_________________________________________________________________\n",
      "dropout_8 (Dropout)          (None, 500)               0         \n",
      "_________________________________________________________________\n",
      "dense_8 (Dense)              (None, 10)                5010      \n",
      "=================================================================\n",
      "Total params: 361,490\n",
      "Trainable params: 361,490\n",
      "Non-trainable params: 0\n",
      "_________________________________________________________________\n",
      "None\n"
     ]
    }
   ],
   "source": [
    "def myModel():\n",
    "    noOfFilters = 60\n",
    "    sizeOfFilter1 = (5, 5)\n",
    "    sizeOfFilter2 = (3, 3)\n",
    "    sizeOfPool = (2, 2)\n",
    "    noOfNodes = 500\n",
    "\n",
    "    model = Sequential()\n",
    "    model.add((Conv2D(noOfFilters, sizeOfFilter1, input_shape=(imageDimensions[0],imageDimensions[1], 1), activation='relu')))\n",
    "    model.add((Conv2D(noOfFilters, sizeOfFilter1, activation='relu')))\n",
    "    model.add(MaxPooling2D(pool_size=sizeOfPool))\n",
    "    model.add((Conv2D(noOfFilters // 2, sizeOfFilter2, activation='relu')))\n",
    "    model.add((Conv2D(noOfFilters // 2, sizeOfFilter2, activation='relu')))\n",
    "    model.add(MaxPooling2D(pool_size=sizeOfPool))\n",
    "    model.add(Dropout(0.5))\n",
    "\n",
    "    model.add(Flatten())\n",
    "    model.add(Dense(noOfNodes, activation='relu'))\n",
    "    model.add(Dropout(0.5))\n",
    "    model.add(Dense(noOfClasses, activation='softmax'))\n",
    "\n",
    "    model.compile(Adam(lr=0.001), loss='categorical_crossentropy', metrics=['accuracy'])\n",
    "    return model\n",
    "\n",
    "\n",
    "model = myModel()\n",
    "print(model.summary())"
   ]
  },
  {
   "cell_type": "code",
   "execution_count": 99,
   "metadata": {},
   "outputs": [
    {
     "name": "stdout",
     "output_type": "stream",
     "text": [
      "Epoch 1/2\n",
      "2000/2000 [==============================] - 653s 327ms/step - loss: 0.2495 - accuracy: 0.9173 - val_loss: 0.0178 - val_accuracy: 0.9951\n",
      "Epoch 2/2\n",
      "2000/2000 [==============================] - 1459s 729ms/step - loss: 0.0728 - accuracy: 0.9772 - val_loss: 0.0179 - val_accuracy: 0.9951\n"
     ]
    }
   ],
   "source": [
    "batchSizeVal = 50\n",
    "epochsVal = 2                  # training on just 2 epochs to save computaional time (ideally use around 10 epochs)\n",
    "stepsPerEpochVal = 2000\n",
    "\n",
    "history = model.fit_generator(dataGen.flow(X_train, y_train,\n",
    "                                           batch_size=batchSizeVal),\n",
    "                                           steps_per_epoch=stepsPerEpochVal,\n",
    "                                           epochs=epochsVal,\n",
    "                                           validation_data=(X_validation, y_validation),\n",
    "                                           shuffle=1)"
   ]
  },
  {
   "cell_type": "code",
   "execution_count": 100,
   "metadata": {},
   "outputs": [
    {
     "data": {
      "image/png": "[encoded data removed]",
      "text/plain": [
       "<Figure size 432x288 with 1 Axes>"
      ]
     },
     "metadata": {
      "needs_background": "light"
     },
     "output_type": "display_data"
    },
    {
     "data": {
      "image/png": "[encoded data removed]",
      "text/plain": [
       "<Figure size 432x288 with 1 Axes>"
      ]
     },
     "metadata": {
      "needs_background": "light"
     },
     "output_type": "display_data"
    }
   ],
   "source": [
    "# Plotting the results\n",
    "plt.figure(1)\n",
    "plt.plot(history.history['loss'])\n",
    "plt.plot(history.history['val_loss'])\n",
    "plt.legend(['training', 'validation'])\n",
    "plt.title('Loss')\n",
    "plt.xlabel('epoch')\n",
    "plt.figure(2)\n",
    "plt.plot(history.history['accuracy'])\n",
    "plt.plot(history.history['val_accuracy'])\n",
    "plt.legend(['training', 'validation'])\n",
    "plt.title('Accuracy')\n",
    "plt.xlabel('epoch')\n",
    "plt.show()"
   ]
  },
  {
   "cell_type": "code",
   "execution_count": 101,
   "metadata": {},
   "outputs": [
    {
     "name": "stdout",
     "output_type": "stream",
     "text": [
      "Test Score =  0.015091616830560936\n",
      "Test Accuracy = 0.9965550899505615\n"
     ]
    }
   ],
   "source": [
    "# Evaluating testing images\n",
    "score = model.evaluate(X_test, y_test, verbose=0)\n",
    "print('Test Score = ', score[0])\n",
    "print('Test Accuracy =', score[1])"
   ]
  },
  {
   "cell_type": "code",
   "execution_count": 102,
   "metadata": {},
   "outputs": [],
   "source": [
    "# saving the trained model as a pickle object\n",
    "pickle_out = open(\"model_trained.p\", \"wb\")        # wb is write the bytes\n",
    "pickle.dump(model, pickle_out)\n",
    "pickle_out.close()"
   ]
  },
  {
   "cell_type": "code",
   "execution_count": null,
   "metadata": {},
   "outputs": [],
   "source": []
  }
 ],
 "metadata": {
  "kernelspec": {
   "display_name": "Python 3.7 (tensorflow)",
   "language": "python",
   "name": "tensorflow"
  },
  "language_info": {
   "codemirror_mode": {
    "name": "ipython",
    "version": 3
   },
   "file_extension": ".py",
   "mimetype": "text/x-python",
   "name": "python",
   "nbconvert_exporter": "python",
   "pygments_lexer": "ipython3",
   "version": "3.7.7"
  }
 },
 "nbformat": 4,
 "nbformat_minor": 4
}
